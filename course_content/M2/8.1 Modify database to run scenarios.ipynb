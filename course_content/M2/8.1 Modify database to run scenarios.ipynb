{
 "cells": [
  {
   "cell_type": "markdown",
   "metadata": {},
   "source": [
    "# 8.1 Modification of a database to run scenarios\n",
    "\n",
    "Here we modify the technology matrix without touching the files in the database, this is useful to e.g. modify bacgkround databases like ecoinvent to simulate scenarios and to perform OAT sensitivity analysis relatively fast"
   ]
  },
  {
   "cell_type": "markdown",
   "metadata": {},
   "source": [
    "1. Import BW2, biosphere3 and import ecoinvent database\n",
    "5. modify specific activities in the ecoinvent database (using the technology matrix coordinates)\n",
    "6. calculate results with the modified ecoinvent database"
   ]
  },
  {
   "cell_type": "markdown",
   "metadata": {},
   "source": [
    "**Set up**"
   ]
  },
  {
   "cell_type": "code",
   "execution_count": 1,
   "metadata": {},
   "outputs": [],
   "source": [
    "import random\n",
    "import pandas as pd # if you don't have pandas close the notebook and run \"conda install pandas\" in your virtual env\n",
    "import numpy as np\n",
    "\n",
    "# Options for pandas\n",
    "pd.options.display.max_columns = 50\n",
    "pd.options.display.max_rows = 50\n",
    "\n",
    "from scipy.sparse import csr_matrix\n",
    "\n",
    "import matplotlib.pyplot as plt\n",
    "import matplotlib as mpl\n"
   ]
  },
  {
   "cell_type": "code",
   "execution_count": 2,
   "metadata": {},
   "outputs": [],
   "source": [
    "import brightway2 as bw"
   ]
  },
  {
   "cell_type": "code",
   "execution_count": 3,
   "metadata": {
    "collapsed": true
   },
   "outputs": [
    {
     "data": {
      "text/plain": [
       "[Project: a_dummy_project,\n",
       " Project: advlca19,\n",
       " Project: advlca19_heat_exercise,\n",
       " Project: advlca20,\n",
       " Project: advlca20_heat_exercise,\n",
       " Project: advlca21,\n",
       " Project: advlca23,\n",
       " Project: B4B18,\n",
       " Project: bg-fg,\n",
       " Project: Biowood,\n",
       " Project: biowood,\n",
       " Project: BTC02,\n",
       " Project: BTC_Att_LCA,\n",
       " Project: bw2_import_ecoinvent_2017,\n",
       " Project: bw2_import_ecoinvent_3.3,\n",
       " Project: bw2_import_ecoinvent_3.4,\n",
       " Project: bw2_seminar_ex1,\n",
       " Project: C3BO,\n",
       " Project: CCU,\n",
       " Project: chem_paper,\n",
       " Project: ConseqUncertainty,\n",
       " Project: default,\n",
       " Project: exiobase,\n",
       " Project: exiobase_test,\n",
       " Project: Giovanni,\n",
       " Project: GSA,\n",
       " Project: HH,\n",
       " Project: HH2,\n",
       " Project: import from csv file,\n",
       " Project: Massimo,\n",
       " Project: Microalgae_Sim,\n",
       " Project: navigate_matrices,\n",
       " Project: non-linearity,\n",
       " Project: PlastiSea,\n",
       " Project: PlastiSea2,\n",
       " Project: test_act_create,\n",
       " Project: test_exio3_import,\n",
       " Project: test_exio3_import_simple,\n",
       " Project: testei34,\n",
       " Project: testparameters,\n",
       " Project: testtime]"
      ]
     },
     "execution_count": 3,
     "metadata": {},
     "output_type": "execute_result"
    }
   ],
   "source": [
    "sorted(bw.projects) # check what project you have \n",
    "# bw.projects.delete_project('advlca22', delete_dir=True) # if you want a fresh start"
   ]
  },
  {
   "cell_type": "code",
   "execution_count": 3,
   "metadata": {},
   "outputs": [],
   "source": [
    "# Just in case you want a fresh start\n",
    "# bw.databases.clear()\n",
    "# bw.methods.clear()"
   ]
  },
  {
   "cell_type": "code",
   "execution_count": 4,
   "metadata": {},
   "outputs": [
    {
     "data": {
      "text/plain": [
       "Databases dictionary with 8 object(s):\n",
       "\tSAtestdb\n",
       "\tbiosphere3\n",
       "\tecoinvent 3.9 conseq\n",
       "\texldb\n",
       "\tgsa_db\n",
       "\tsa_db\n",
       "\ttestbiosphere\n",
       "\ttestdb"
      ]
     },
     "execution_count": 4,
     "metadata": {},
     "output_type": "execute_result"
    }
   ],
   "source": [
    "bw.projects.set_current('advlca23') # Still working in the same project\n",
    "bw.databases\n",
    "#bw.databases.clear() # For a fresh start (Risky command! clears all your existing databases)"
   ]
  },
  {
   "cell_type": "markdown",
   "metadata": {},
   "source": [
    "# Skip this if you already have biosphere and ecoinvent imported"
   ]
  },
  {
   "cell_type": "code",
   "execution_count": null,
   "metadata": {
    "scrolled": false
   },
   "outputs": [],
   "source": [
    "# Import the biosphere3 database\n",
    "bw.bw2setup()  # This will take some time"
   ]
  },
  {
   "cell_type": "code",
   "execution_count": null,
   "metadata": {},
   "outputs": [],
   "source": [
    "# Import ecoinvent\n",
    "\n",
    "ei_vX_dir = \"your directory....\" # change vX with the version, and change the directory too\n",
    "\n",
    "if 'ecoinvent X.X.X conseq' in bw.databases: # change X with the version\n",
    "    print(\"Database has already been imported\")\n",
    "else:\n",
    "    ei_vX = bw.SingleOutputEcospold2Importer(ei_vX_dir, 'ecoinvent 3.X.X conseq', use_mp = False) # You can give it another name of course\n",
    "    ei_vX.apply_strategies()\n",
    "    ei_vX.statistics()\n",
    "\n",
    "ei_vX.drop_unlinked(True)\n",
    "ei_vX.write_database() # This will take some time."
   ]
  },
  {
   "cell_type": "code",
   "execution_count": null,
   "metadata": {},
   "outputs": [],
   "source": [
    "bw.databases # you should now see both \"biosphere3\" and \"ecoinvent X.X.X \""
   ]
  },
  {
   "cell_type": "markdown",
   "metadata": {},
   "source": [
    "## Start here if you have already imported the background database"
   ]
  },
  {
   "cell_type": "code",
   "execution_count": 17,
   "metadata": {},
   "outputs": [
    {
     "name": "stdout",
     "output_type": "stream",
     "text": [
      "market for electricity, high voltage 140f214ea44bf37e5eda0dcf93d055a9 BE kilowatt hour\n",
      "market for electricity, low voltage 972d53e8fdd735a037b592551ff215de BE kilowatt hour\n",
      "market for electricity, medium voltage 9cddc8b07431b2c215495e8313c653c1 BE kilowatt hour\n",
      "electricity production, hard coal 46274eeccfaac8dbe015d37803026440 BE kilowatt hour\n"
     ]
    }
   ],
   "source": [
    "#frst we find the code of the belgian electircity mix high voltage and we keep it for further use\n",
    "for activity in bw.Database('ecoinvent 3.9 conseq').search(\"market for electricity high voltage belgium\"):\n",
    "    print(activity['name'], activity['code'], activity['location'], activity['unit'])"
   ]
  },
  {
   "cell_type": "markdown",
   "metadata": {},
   "source": [
    "Now we create a simple foreground process that uses 1 kWh electricity in Belgium"
   ]
  },
  {
   "cell_type": "markdown",
   "metadata": {},
   "source": [
    "(Side note: how did I get this code? _a6ce6bd4ed5be000b09a35160a79b673_ \n",
    "\n",
    "I used this link https://www.md5hashgenerator.com/ and typed \"Belgian electricity mix\" in the text field, then copied the MD5 Hash. This is a way to create unique identifiers for activities)"
   ]
  },
  {
   "cell_type": "code",
   "execution_count": 18,
   "metadata": {},
   "outputs": [
    {
     "name": "stderr",
     "output_type": "stream",
     "text": [
      "Writing activities to SQLite3 database:\n",
      "0% [#] 100% | ETA: 00:00:00\n",
      "Total time elapsed: 00:00:00\n"
     ]
    },
    {
     "name": "stdout",
     "output_type": "stream",
     "text": [
      "Title: Writing activities to SQLite3 database:\n",
      "  Started: 04/18/2023 08:36:26\n",
      "  Finished: 04/18/2023 08:36:26\n",
      "  Total time elapsed: 00:00:00\n",
      "  CPU %: 53.50\n",
      "  Memory %: 1.57\n"
     ]
    }
   ],
   "source": [
    "fg_db = bw.Database('fg_db') # foreground database\n",
    "fg_db.write({\n",
    "    ('fg_db', 'a6ce6bd4ed5be000b09a35160a79b673'):{ # Note that a tuple is used to identify an activity univocally\n",
    "        'name':'Belgian el mix',\n",
    "        'unit': 'kilogram', \n",
    "        'exchanges': [{\n",
    "                'input': ('ecoinvent 3.9 conseq', '140f214ea44bf37e5eda0dcf93d055a9'), # 'market for electricity, high voltage' (kilowatt hour, BE, None) found a couple of lines above\n",
    "                'amount': 1,\n",
    "                'unit': 'kilowatt hour',\n",
    "                'type': 'technosphere'\n",
    "            }]}})\n",
    "    "
   ]
  },
  {
   "cell_type": "code",
   "execution_count": 20,
   "metadata": {},
   "outputs": [
    {
     "name": "stdout",
     "output_type": "stream",
     "text": [
      "production\n",
      "140f214ea44bf37e5eda0dcf93d055a9\n",
      "'market for electricity, high voltage' (kilowatt hour, BE, None)\n",
      "1.0\n",
      "-------\n",
      "technosphere\n",
      "7bab9c48ad3529d1c4d4a57b8e3e05cd\n",
      "'electricity production, hydro, run-of-river' (kilowatt hour, BE, None)\n",
      "0.00602776051608669\n",
      "-------\n",
      "technosphere\n",
      "140f214ea44bf37e5eda0dcf93d055a9\n",
      "'market for electricity, high voltage' (kilowatt hour, BE, None)\n",
      "0.0176\n",
      "-------\n",
      "technosphere\n",
      "a170a033598617e26565f76f79a11b1b\n",
      "'electricity production, wind, 1-3MW turbine, offshore' (kilowatt hour, BE, None)\n",
      "0.200937190010207\n",
      "-------\n",
      "technosphere\n",
      "a0812bd956db46307dc45ab740b7c035\n",
      "'electricity production, oil' (kilowatt hour, BE, None)\n",
      "0.0180105591347089\n",
      "-------\n",
      "technosphere\n",
      "1a2d99364e5e44eba30dba550f163677\n",
      "'electricity production, natural gas, combined cycle power plant' (kilowatt hour, BE, None)\n",
      "0.557342534494605\n",
      "-------\n",
      "technosphere\n",
      "ea3613788c223ee88d4c4f176ca4b822\n",
      "'electricity production, wind, >3MW turbine, onshore' (kilowatt hour, BE, None)\n",
      "0.217681955844392\n",
      "-------\n",
      "technosphere\n",
      "ff21df013cab14d41b723daecb0a8813\n",
      "'market for transmission network, electricity, high voltage direct current aerial line' (kilometer, GLO, None)\n",
      "2.14269935906774e-09\n",
      "-------\n",
      "technosphere\n",
      "1bba8d116bccb64b22425cded2d5f5fd\n",
      "'market for transmission network, electricity, high voltage direct current land cable' (kilometer, GLO, None)\n",
      "1.16401360225082e-09\n",
      "-------\n",
      "biosphere\n",
      "20185046-64bb-4c09-a8e7-e8a9e144ca98\n",
      "'Dinitrogen monoxide' (kilogram, None, ('air',))\n",
      "5e-06\n",
      "-------\n",
      "biosphere\n",
      "2058d91e-bb9f-4fce-8e53-131825b14a23\n",
      "'Ozone' (kilogram, None, ('air',))\n",
      "4.15772755242894e-06\n",
      "-------\n"
     ]
    }
   ],
   "source": [
    "#you can use this to check the inputs of the belgian mix\n",
    "belgian_mix_default = bw.Database('ecoinvent 3.9 conseq').get('140f214ea44bf37e5eda0dcf93d055a9') # same ei code as before\n",
    "for exc in belgian_mix_default.exchanges():\n",
    "    print(exc['type'])\n",
    "    print(exc['input'][1])\n",
    "    print(exc.input)\n",
    "    print(exc['amount'])\n",
    "    print(\"-------\")"
   ]
  },
  {
   "cell_type": "markdown",
   "metadata": {},
   "source": [
    "# Modify the database by changing directly the technology matrix"
   ]
  },
  {
   "cell_type": "markdown",
   "metadata": {},
   "source": [
    "Find the products and activities that you need.\n",
    "\n",
    "In particular we want to change the shared of wind and gas in the belgian electircity mix"
   ]
  },
  {
   "cell_type": "markdown",
   "metadata": {},
   "source": [
    "Initialize the LCA using the FU (this could be the BAU scenario)"
   ]
  },
  {
   "cell_type": "code",
   "execution_count": 22,
   "metadata": {},
   "outputs": [],
   "source": [
    "mymethod = ('IPCC 2013', 'climate change', 'global warming potential (GWP100)')\n",
    "LCA = bw.LCA({('fg_db', 'a6ce6bd4ed5be000b09a35160a79b673') : 1}, \n",
    "             mymethod)\n",
    "LCA.lci()\n",
    "LCA.lcia()"
   ]
  },
  {
   "cell_type": "code",
   "execution_count": 23,
   "metadata": {},
   "outputs": [
    {
     "data": {
      "text/plain": [
       "0.2715720290578597"
      ]
     },
     "execution_count": 23,
     "metadata": {},
     "output_type": "execute_result"
    }
   ],
   "source": [
    "LCA.score"
   ]
  },
  {
   "cell_type": "markdown",
   "metadata": {},
   "source": [
    "Decide which activities and exchanges to modify. \n",
    "\n",
    "_(You can dedice yourself hot to structure this, below is only a suggestion)_\n",
    "\n",
    "I use here a list of **tuples** each tuple with this structure: (activity, exchange, new value) \n",
    "- first element is the column in tech matrix, \n",
    "- second is the row in the tech matrix, \n",
    "- third element of the tuple is the new value (scenario)\n",
    "\n",
    "So the first two elements are coordinates and the third is a value"
   ]
  },
  {
   "cell_type": "code",
   "execution_count": 26,
   "metadata": {},
   "outputs": [],
   "source": [
    "to_change = [(('ecoinvent 3.9 conseq', '140f214ea44bf37e5eda0dcf93d055a9'), # Belgian el mix\n",
    "             ('ecoinvent 3.9 conseq', 'ea3613788c223ee88d4c4f176ca4b822'), # wind input to the mix\n",
    "             0.5), # input increased to 50%\n",
    "            (('ecoinvent 3.9 conseq', '140f214ea44bf37e5eda0dcf93d055a9'), # Belgian el mix\n",
    "             ('ecoinvent 3.9 conseq', '1a2d99364e5e44eba30dba550f163677'), #  gas input to the mix\n",
    "             0.25), # input reduced to 25%\n",
    "             ((\"fg_db\", \"a6ce6bd4ed5be000b09a35160a79b673\"), # foreground activity\n",
    "              ('ecoinvent 3.9 conseq', '140f214ea44bf37e5eda0dcf93d055a9'), # belgian el mix\n",
    "              1.1)] # input changed 1.1. only for demonstrative purposes\n",
    "\n",
    "# Belgian el mix == 'market for electricity, high voltage' (kilowatt hour, BE, None)\n",
    "# wind == 'electricity production, wind, 1-3MW turbine, offshore' (kilowatt hour, BE, None)\n",
    "# gas == 'electricity production, natural gas, combined cycle power plant' (kilowatt hour, BE, None)"
   ]
  },
  {
   "cell_type": "markdown",
   "metadata": {},
   "source": [
    "This is to show the coordinates (column number and row number) in the technology matrix and current values"
   ]
  },
  {
   "cell_type": "code",
   "execution_count": 27,
   "metadata": {},
   "outputs": [
    {
     "name": "stdout",
     "output_type": "stream",
     "text": [
      "10760 3037 -0.21768195927143097\n",
      "10760 10110 -0.557342529296875\n",
      "18856 10760 -1.0\n"
     ]
    }
   ],
   "source": [
    "for i in to_change:\n",
    "    col = LCA.activity_dict[i[0]] # the new thing about this notebook is using activity_dict\n",
    "    row = LCA.activity_dict[i[1]]\n",
    "    print(col, row, LCA.technosphere_matrix[row,col]) # shows current values"
   ]
  },
  {
   "cell_type": "markdown",
   "metadata": {},
   "source": [
    "Using the coordinates of the activities and exchanges to be changed, **update the value**"
   ]
  },
  {
   "cell_type": "code",
   "execution_count": 28,
   "metadata": {},
   "outputs": [
    {
     "name": "stdout",
     "output_type": "stream",
     "text": [
      "10760 3037 -0.5\n",
      "10760 10110 -0.25\n",
      "18856 10760 -1.1\n"
     ]
    }
   ],
   "source": [
    "for i in to_change:\n",
    "    col = LCA.activity_dict[i[0]] # find index of tech matrix for the activity\n",
    "    row = LCA.activity_dict[i[1]] # find index of tech matrix for the exchange\n",
    "    LCA.technosphere_matrix[row,col] = -i[2] # substitute the value, need to change the sign!\n",
    "    \n",
    "    print(col, row, LCA.technosphere_matrix[row,col])"
   ]
  },
  {
   "cell_type": "markdown",
   "metadata": {},
   "source": [
    "Now perform calculations using the modified tech matrix"
   ]
  },
  {
   "cell_type": "code",
   "execution_count": 29,
   "metadata": {},
   "outputs": [
    {
     "data": {
      "text/plain": [
       "0.1475681191419352"
      ]
     },
     "execution_count": 29,
     "metadata": {},
     "output_type": "execute_result"
    }
   ],
   "source": [
    "LCA.redo_lci() # uses the new tech matrix\n",
    "LCA.lcia()\n",
    "LCA.score/1.1 # because we have 1.1 times higher input of electricity"
   ]
  },
  {
   "cell_type": "markdown",
   "metadata": {},
   "source": [
    "Ths score is diffent as before and lower impact as expected (we have more wind and less gas)"
   ]
  },
  {
   "cell_type": "markdown",
   "metadata": {},
   "source": [
    "### Using data from files (useful to organize scenarios and prepare things on beforehand)"
   ]
  },
  {
   "cell_type": "markdown",
   "metadata": {},
   "source": [
    "Same but different, import the scenario from a separate file with the data, that you prepare on beforehand"
   ]
  },
  {
   "cell_type": "code",
   "execution_count": 30,
   "metadata": {},
   "outputs": [
    {
     "data": {
      "text/html": [
       "<div>\n",
       "<style scoped>\n",
       "    .dataframe tbody tr th:only-of-type {\n",
       "        vertical-align: middle;\n",
       "    }\n",
       "\n",
       "    .dataframe tbody tr th {\n",
       "        vertical-align: top;\n",
       "    }\n",
       "\n",
       "    .dataframe thead th {\n",
       "        text-align: right;\n",
       "    }\n",
       "</style>\n",
       "<table border=\"1\" class=\"dataframe\">\n",
       "  <thead>\n",
       "    <tr style=\"text-align: right;\">\n",
       "      <th></th>\n",
       "      <th>activity_database</th>\n",
       "      <th>activity_code</th>\n",
       "      <th>exchange_database</th>\n",
       "      <th>exchange_code</th>\n",
       "      <th>value</th>\n",
       "    </tr>\n",
       "  </thead>\n",
       "  <tbody>\n",
       "    <tr>\n",
       "      <th>0</th>\n",
       "      <td>ecoinvent 3.9 conseq</td>\n",
       "      <td>140f214ea44bf37e5eda0dcf93d055a9</td>\n",
       "      <td>ecoinvent 3.9 conseq</td>\n",
       "      <td>ea3613788c223ee88d4c4f176ca4b822</td>\n",
       "      <td>0.50</td>\n",
       "    </tr>\n",
       "    <tr>\n",
       "      <th>1</th>\n",
       "      <td>ecoinvent 3.9 conseq</td>\n",
       "      <td>140f214ea44bf37e5eda0dcf93d055a9</td>\n",
       "      <td>ecoinvent 3.9 conseq</td>\n",
       "      <td>1a2d99364e5e44eba30dba550f163677</td>\n",
       "      <td>0.25</td>\n",
       "    </tr>\n",
       "    <tr>\n",
       "      <th>2</th>\n",
       "      <td>fg_db</td>\n",
       "      <td>a6ce6bd4ed5be000b09a35160a79b673</td>\n",
       "      <td>ecoinvent 3.9 conseq</td>\n",
       "      <td>140f214ea44bf37e5eda0dcf93d055a9</td>\n",
       "      <td>1.10</td>\n",
       "    </tr>\n",
       "  </tbody>\n",
       "</table>\n",
       "</div>"
      ],
      "text/plain": [
       "      activity_database                     activity_code  \\\n",
       "0  ecoinvent 3.9 conseq  140f214ea44bf37e5eda0dcf93d055a9   \n",
       "1  ecoinvent 3.9 conseq  140f214ea44bf37e5eda0dcf93d055a9   \n",
       "2                 fg_db  a6ce6bd4ed5be000b09a35160a79b673   \n",
       "\n",
       "      exchange_database                     exchange_code  value  \n",
       "0  ecoinvent 3.9 conseq  ea3613788c223ee88d4c4f176ca4b822   0.50  \n",
       "1  ecoinvent 3.9 conseq  1a2d99364e5e44eba30dba550f163677   0.25  \n",
       "2  ecoinvent 3.9 conseq  140f214ea44bf37e5eda0dcf93d055a9   1.10  "
      ]
     },
     "execution_count": 30,
     "metadata": {},
     "output_type": "execute_result"
    }
   ],
   "source": [
    "scenario_data = pd.read_csv('scenario.csv', sep = ';') # import a csv unsing pandas, careful with formatting...\n",
    "scenario_data"
   ]
  },
  {
   "cell_type": "markdown",
   "metadata": {},
   "source": [
    "Convert the dataframe in a list of tuples"
   ]
  },
  {
   "cell_type": "code",
   "execution_count": 31,
   "metadata": {},
   "outputs": [],
   "source": [
    "to_change = []\n",
    "for i in range(len(scenario_data.index)):\n",
    "    change = ((scenario_data.iloc[i,0],scenario_data.iloc[i,1]),\n",
    "              (scenario_data.iloc[i,2],scenario_data.iloc[i,3]),\n",
    "              scenario_data.iloc[i,4])\n",
    "    to_change.append(change)"
   ]
  },
  {
   "cell_type": "code",
   "execution_count": 32,
   "metadata": {},
   "outputs": [
    {
     "data": {
      "text/plain": [
       "[(('ecoinvent 3.9 conseq', '140f214ea44bf37e5eda0dcf93d055a9'),\n",
       "  ('ecoinvent 3.9 conseq', 'ea3613788c223ee88d4c4f176ca4b822'),\n",
       "  0.5),\n",
       " (('ecoinvent 3.9 conseq', '140f214ea44bf37e5eda0dcf93d055a9'),\n",
       "  ('ecoinvent 3.9 conseq', '1a2d99364e5e44eba30dba550f163677'),\n",
       "  0.25),\n",
       " (('fg_db', 'a6ce6bd4ed5be000b09a35160a79b673'),\n",
       "  ('ecoinvent 3.9 conseq', '140f214ea44bf37e5eda0dcf93d055a9'),\n",
       "  1.1)]"
      ]
     },
     "execution_count": 32,
     "metadata": {},
     "output_type": "execute_result"
    }
   ],
   "source": [
    "to_change"
   ]
  },
  {
   "cell_type": "code",
   "execution_count": 16,
   "metadata": {},
   "outputs": [],
   "source": [
    "for i in to_change:\n",
    "    col = LCA.activity_dict[i[0]] # find index of tech matrix for the activity\n",
    "    row = LCA.activity_dict[i[1]] # find index of tech matrix for the exchange\n",
    "    LCA.technosphere_matrix[row,col] = -i[2] # substitute the value\n",
    "    #print(LCA.technosphere_matrix[row,col])"
   ]
  },
  {
   "cell_type": "code",
   "execution_count": 17,
   "metadata": {
    "scrolled": true
   },
   "outputs": [
    {
     "data": {
      "text/plain": [
       "0.14342082684503155"
      ]
     },
     "execution_count": 17,
     "metadata": {},
     "output_type": "execute_result"
    }
   ],
   "source": [
    "LCA.redo_lci() # uses the new tech matrix\n",
    "LCA.lcia()\n",
    "LCA.score/1.1"
   ]
  },
  {
   "cell_type": "markdown",
   "metadata": {},
   "source": [
    "If you have multiple scenarios, you can import each file with a different name and then **iterate the calculation across the scenarios**"
   ]
  }
 ],
 "metadata": {
  "kernelspec": {
   "display_name": "Python 3 (ipykernel)",
   "language": "python",
   "name": "python3"
  },
  "language_info": {
   "codemirror_mode": {
    "name": "ipython",
    "version": 3
   },
   "file_extension": ".py",
   "mimetype": "text/x-python",
   "name": "python",
   "nbconvert_exporter": "python",
   "pygments_lexer": "ipython3",
   "version": "3.11.0"
  }
 },
 "nbformat": 4,
 "nbformat_minor": 2
}
