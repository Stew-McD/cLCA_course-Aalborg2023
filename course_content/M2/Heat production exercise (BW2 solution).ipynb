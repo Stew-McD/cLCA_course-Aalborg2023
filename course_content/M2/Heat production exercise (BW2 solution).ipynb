{
 "cells": [
  {
   "cell_type": "markdown",
   "metadata": {},
   "source": [
    "# Heat production exercise (BW2 solution)"
   ]
  },
  {
   "cell_type": "code",
   "execution_count": 1,
   "metadata": {},
   "outputs": [],
   "source": [
    "import brightway2 as bw"
   ]
  },
  {
   "cell_type": "code",
   "execution_count": 3,
   "metadata": {},
   "outputs": [],
   "source": [
    "bw.projects.set_current('advlca20_heat_exercise') # make a new project"
   ]
  },
  {
   "cell_type": "code",
   "execution_count": 5,
   "metadata": {},
   "outputs": [],
   "source": [
    "hx_db = bw.Database(\"hx\") # creates an instance of the database class 'hx' = 'Heat eXercise'"
   ]
  },
  {
   "cell_type": "markdown",
   "metadata": {},
   "source": [
    "A suggestion on how to do this in a structured way. Take each **column** of your matrix and create each activity one by one. Make sure you use activity names consistently."
   ]
  },
  {
   "cell_type": "code",
   "execution_count": 6,
   "metadata": {},
   "outputs": [
    {
     "name": "stderr",
     "output_type": "stream",
     "text": [
      "Writing activities to SQLite3 database:\n",
      "0% [#######] 100% | ETA: 00:00:00\n",
      "Total time elapsed: 00:00:00\n"
     ]
    },
    {
     "name": "stdout",
     "output_type": "stream",
     "text": [
      "Title: Writing activities to SQLite3 database:\n",
      "  Started: 04/20/2020 13:39:24\n",
      "  Finished: 04/20/2020 13:39:24\n",
      "  Total time elapsed: 00:00:00\n",
      "  CPU %: 54.00\n",
      "  Memory %: 0.80\n"
     ]
    }
   ],
   "source": [
    "hx_db.write({\n",
    "    (\"hx\", \"Coal production\"):{\n",
    "        'name':'Coal from coal production',\n",
    "        'unit': 'kg', \n",
    "        'exchanges': [{\n",
    "                'input': ('hx', 'Market for electricity'),\n",
    "                'amount': 0.04,\n",
    "                'unit': 'kWh',\n",
    "                'type': 'technosphere'\n",
    "            },{\n",
    "                'input': ('hx', 'Carbon dioxide'),\n",
    "                'amount': 0.34,\n",
    "                'unit': 'kg',\n",
    "                'type': 'biosphere'\n",
    "            },{\n",
    "                'input': ('hx', 'Coal production'), \n",
    "                'amount': 1.0,\n",
    "                'unit': 'kg',\n",
    "                'type': 'production'\n",
    "            }]\n",
    "        },\n",
    "    (\"hx\", \"Power plant\"):{\n",
    "        'name':'Electricity from power plant',\n",
    "        'unit': 'kWh', \n",
    "        'exchanges': [{\n",
    "                'input': ('hx', 'Coal production'),\n",
    "                'amount': 0.4,\n",
    "                'unit': 'kg',\n",
    "                'type': 'technosphere'\n",
    "            },{\n",
    "                'input': ('hx', 'Carbon dioxide'),\n",
    "                'amount': 0.84,\n",
    "                'unit': 'kg',\n",
    "                'type': 'biosphere'\n",
    "            },{\n",
    "                'input': ('hx', 'Power plant'), \n",
    "                'amount': 1.3,\n",
    "                'unit': 'kWh',\n",
    "                'type': 'production'\n",
    "            }]\n",
    "        },\n",
    "    (\"hx\", \"Heat plant\"):{\n",
    "        'name':'Heat from Heat plant',\n",
    "        'unit': 'MJ', \n",
    "        'exchanges': [{\n",
    "                'input': ('hx', 'Coal production'),\n",
    "                'amount': -0.4,\n",
    "                'unit': 'liters',\n",
    "                'type': 'technosphere'\n",
    "            },{\n",
    "                'input': ('hx', 'Carbon dioxide'),\n",
    "                'amount': 0.84,\n",
    "                'unit': 'kg',\n",
    "                'type': 'biosphere'\n",
    "            },{\n",
    "                'input': ('hx', 'Heat plant'),\n",
    "                'amount': 10.0,\n",
    "                'unit': 'MJ',\n",
    "                'type': 'production'\n",
    "            }]\n",
    "        },\n",
    "    (\"hx\", \"Market for electricity\"):{\n",
    "        'name':'Electricity from Market for electricity',\n",
    "        'unit': 'kWh', \n",
    "        'exchanges': [{\n",
    "                'input': ('hx', 'Power plant'), # only UNconstrained activities in the market!\n",
    "                'amount': 2.6,\n",
    "                'unit': 'kWh',\n",
    "                'type': 'technosphere'\n",
    "            },{\n",
    "                'input': ('hx', 'Market for electricity'), \n",
    "                'amount': 2.6,\n",
    "                'unit': 'kWh',\n",
    "                'type': 'production'\n",
    "            }]\n",
    "        },\n",
    "    (\"hx\", \"Market for heat\"):{\n",
    "        'name':'Heat from Market for heat',\n",
    "        'unit': 'MJ', \n",
    "        'exchanges': [{\n",
    "                'input': ('hx', 'Heat cogeneration'), # only UNconstrained activities in the market!\n",
    "                'amount': 15,\n",
    "                'unit': 'MJ',\n",
    "                'type': 'technosphere'\n",
    "            },{\n",
    "                'input': ('hx', 'Market for heat'), \n",
    "                'amount': 15,\n",
    "                'unit': 'MJ',\n",
    "                'type': 'production'\n",
    "            }]\n",
    "        },\n",
    "    (\"hx\", \"Heat cogeneration\"):{\n",
    "        'name':'Heat from Heat cogeneration',\n",
    "        'unit': 'MJ', \n",
    "        'exchanges': [{\n",
    "                'input': ('hx', 'Market for electricity'),\n",
    "                'amount': -1.3,\n",
    "                'unit': 'kWh',\n",
    "                'type': 'technosphere' # this is avoided electricity production (the substution method)\n",
    "            },{\n",
    "                'input': ('hx', 'Coal production'),\n",
    "                'amount': 0.4,\n",
    "                'unit': 'kg',\n",
    "                'type': 'technosphere'\n",
    "            },{\n",
    "                'input': ('hx', 'Carbon dioxide'),\n",
    "                'amount': 0.84,\n",
    "                'unit': 'kg',\n",
    "                'type': 'biosphere'\n",
    "            },{\n",
    "                'input': ('hx', 'Heat cogeneration'), \n",
    "                'amount': 5,\n",
    "                'unit': 'MJ',\n",
    "                'type': 'production'\n",
    "            }]\n",
    "        },\n",
    "    ('hx', 'Carbon dioxide'):{'name': 'Carbon dioxide', 'unit':'kg', 'type': 'biosphere'}\n",
    "\n",
    "    })"
   ]
  },
  {
   "cell_type": "code",
   "execution_count": 7,
   "metadata": {},
   "outputs": [
    {
     "data": {
      "text/plain": [
       "Databases dictionary with 1 object(s):\n",
       "\thx"
      ]
     },
     "execution_count": 7,
     "metadata": {},
     "output_type": "execute_result"
    }
   ],
   "source": [
    "bw.databases # Now I see the database"
   ]
  },
  {
   "cell_type": "markdown",
   "metadata": {},
   "source": [
    "Now solve the inventory"
   ]
  },
  {
   "cell_type": "code",
   "execution_count": 8,
   "metadata": {},
   "outputs": [
    {
     "name": "stdout",
     "output_type": "stream",
     "text": [
      "  (0, 5)\t1679.9999475479126\n",
      "  (0, 1)\t-1679.9999475479126\n",
      "  (0, 0)\t-1.7695572922732338e-14\n"
     ]
    }
   ],
   "source": [
    "functional_unit = {hx_db.get(\"Market for heat\") : 10000}\n",
    "lca = bw.LCA(functional_unit) \n",
    "lca.lci()\n",
    "print(lca.inventory) # you can already see this is close to zero"
   ]
  },
  {
   "cell_type": "code",
   "execution_count": 9,
   "metadata": {},
   "outputs": [
    {
     "data": {
      "text/plain": [
       "-1.7695572922732338e-14"
      ]
     },
     "execution_count": 9,
     "metadata": {},
     "output_type": "execute_result"
    }
   ],
   "source": [
    "import numpy as np # Import the numpy package\n",
    "np.sum(lca.inventory) # almost zero"
   ]
  },
  {
   "cell_type": "code",
   "execution_count": 10,
   "metadata": {},
   "outputs": [
    {
     "data": {
      "text/plain": [
       "[[('testdb', 'Carbon dioxide'), 1.0]]"
      ]
     },
     "execution_count": 10,
     "metadata": {},
     "output_type": "execute_result"
    }
   ],
   "source": [
    "# We don't really need this but let's do it anyway\n",
    "\n",
    "myLCIAdata = [[('testdb', 'Carbon dioxide'), 1.0]]\n",
    "\n",
    "method_key = ('simplemethod', 'imaginaryendpoint', 'imaginarymidpoint')\n",
    "my_method = bw.Method(method_key)\n",
    "my_method.validate(myLCIAdata)\n",
    "my_method.register() \n",
    "my_method.write(myLCIAdata)\n",
    "my_method.load()"
   ]
  },
  {
   "cell_type": "code",
   "execution_count": 11,
   "metadata": {
    "scrolled": true
   },
   "outputs": [
    {
     "name": "stdout",
     "output_type": "stream",
     "text": [
      "characterized_inventory\n",
      " \n",
      "Score\n",
      " 0.0\n"
     ]
    }
   ],
   "source": [
    "lca = bw.LCA(functional_unit, method_key) # run LCA calculations again with method\n",
    "lca.lci()\n",
    "lca.lcia()\n",
    "lca.score\n",
    "\n",
    "print(\"characterized_inventory\\n\", lca.characterized_inventory)\n",
    "print(\"Score\\n\", lca.score) # The exact result"
   ]
  },
  {
   "cell_type": "code",
   "execution_count": 13,
   "metadata": {},
   "outputs": [
    {
     "data": {
      "text/plain": [
       "array([-5.20458022e-14, -2.00000000e+03,  0.00000000e+00, -1.00000000e+03,\n",
       "        6.66666667e+02,  2.00000000e+03])"
      ]
     },
     "execution_count": 13,
     "metadata": {},
     "output_type": "execute_result"
    }
   ],
   "source": [
    "lca.supply_array # To see the scaling factors for each activity. \n",
    "#Notice that Heat plant is not needed (value = 0) in the system"
   ]
  },
  {
   "cell_type": "markdown",
   "metadata": {},
   "source": [
    "### Note on the substitution method\n",
    "\n",
    "In the activity: \"Heat cogeneration\" you find this:\n",
    "\n",
    "```python\n",
    "         'exchanges': [{\n",
    "                'input': ('hx', 'Market for electricity'),\n",
    "                'amount': -1.3,\n",
    "                'unit': 'kWh',\n",
    "                'type': 'technosphere' \n",
    "            },\n",
    "            \n",
    "```\n",
    "\n",
    "But an **equivalent** way of doing this is using the 'substitution' exchange type with **positive** value:\n",
    "\n",
    "```python\n",
    "        'exchanges': [{\n",
    "                'input': ('hx', 'Market for electricity'),\n",
    "                'amount': 1.3, # Positive\n",
    "                'unit': 'kWh',\n",
    "                'type': 'substitution' # different from above\n",
    "            },\n",
    "            \n",
    "```\n"
   ]
  }
 ],
 "metadata": {
  "kernelspec": {
   "display_name": "Python 3",
   "language": "python",
   "name": "python3"
  },
  "language_info": {
   "codemirror_mode": {
    "name": "ipython",
    "version": 3
   },
   "file_extension": ".py",
   "mimetype": "text/x-python",
   "name": "python",
   "nbconvert_exporter": "python",
   "pygments_lexer": "ipython3",
   "version": "3.7.7"
  }
 },
 "nbformat": 4,
 "nbformat_minor": 2
}
